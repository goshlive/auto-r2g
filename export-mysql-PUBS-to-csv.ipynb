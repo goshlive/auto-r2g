{
 "cells": [
  {
   "cell_type": "code",
   "execution_count": 1,
   "id": "3379c3b0",
   "metadata": {},
   "outputs": [],
   "source": [
    "import mysql.connector\n",
    "from mysql.connector import Error\n",
    "import csv\n",
    "\n",
    "host = 'relational.fel.cvut.cz'\n",
    "db = 'pubs'\n",
    "user = 'guest'\n",
    "password = 'ctu-relational'\n",
    "\n",
    "schema = db\n",
    "output_folder = 'db.localhost/{}/'.format(schema)"
   ]
  },
  {
   "cell_type": "code",
   "execution_count": 2,
   "id": "a6533b0e",
   "metadata": {},
   "outputs": [
    {
     "name": "stdout",
     "output_type": "stream",
     "text": [
      "Connected to MySQL Server version  5.5.5-10.6.12-MariaDB-1:10.6.12+maria~ubu2004-log\n",
      "You're connected to database:  ('pubs',)\n"
     ]
    }
   ],
   "source": [
    "try:\n",
    "    connection = mysql.connector.connect(host=host, database=db, user=user, password=password)\n",
    "    \n",
    "    if connection.is_connected():\n",
    "        db_Info = connection.get_server_info()\n",
    "        print(\"Connected to MySQL Server version \", db_Info)\n",
    "        cursor = connection.cursor()\n",
    "        cursor.execute(\"select database();\")\n",
    "        record = cursor.fetchone()\n",
    "        print(\"You're connected to database: \", record)\n",
    "\n",
    "except Error as e:\n",
    "    print(\"Error while connecting to MySQL\", e)"
   ]
  },
  {
   "cell_type": "code",
   "execution_count": 3,
   "id": "30efb693",
   "metadata": {},
   "outputs": [
    {
     "data": {
      "text/plain": [
       "[{'Tables_in_pubs': 'authors'},\n",
       " {'Tables_in_pubs': 'discounts'},\n",
       " {'Tables_in_pubs': 'employee'},\n",
       " {'Tables_in_pubs': 'jobs'},\n",
       " {'Tables_in_pubs': 'pub_info'},\n",
       " {'Tables_in_pubs': 'publishers'},\n",
       " {'Tables_in_pubs': 'roysched'},\n",
       " {'Tables_in_pubs': 'sales'},\n",
       " {'Tables_in_pubs': 'stores'},\n",
       " {'Tables_in_pubs': 'titleauthor'},\n",
       " {'Tables_in_pubs': 'titles'}]"
      ]
     },
     "execution_count": 3,
     "metadata": {},
     "output_type": "execute_result"
    }
   ],
   "source": [
    "q1 = (\"SHOW TABLES FROM \" + schema)\n",
    "c1 = connection.cursor(dictionary=True, buffered=True)\n",
    "c1.execute(q1)\n",
    "\n",
    "table_list = c1.fetchall()\n",
    "table_list"
   ]
  },
  {
   "cell_type": "code",
   "execution_count": 4,
   "id": "6dc88d59",
   "metadata": {},
   "outputs": [],
   "source": [
    "def create_csv(c2, table):\n",
    "    q2 = \"SELECT * FROM %s;\" % table\n",
    "    c2.execute(q2)\n",
    "    result = c2.fetchall()\n",
    "    print(f'output_folder:{output_folder}, table:{table}')\n",
    "    writer = csv.writer(open(output_folder + table + '.csv','w',newline='',encoding='utf-8'), delimiter=';')\n",
    "    writer.writerow([i[0] for i in c2.description])\n",
    "    writer.writerows(result)"
   ]
  },
  {
   "cell_type": "code",
   "execution_count": 5,
   "id": "39d5a967",
   "metadata": {},
   "outputs": [
    {
     "name": "stdout",
     "output_type": "stream",
     "text": [
      "{'Tables_in_pubs': 'authors'}\n",
      "authors\n",
      "output_folder:db.localhost/pubs/, table:authors\n",
      "{'Tables_in_pubs': 'discounts'}\n",
      "discounts\n",
      "output_folder:db.localhost/pubs/, table:discounts\n",
      "{'Tables_in_pubs': 'employee'}\n",
      "employee\n",
      "output_folder:db.localhost/pubs/, table:employee\n",
      "{'Tables_in_pubs': 'jobs'}\n",
      "jobs\n",
      "output_folder:db.localhost/pubs/, table:jobs\n",
      "{'Tables_in_pubs': 'pub_info'}\n",
      "pub_info\n",
      "output_folder:db.localhost/pubs/, table:pub_info\n",
      "{'Tables_in_pubs': 'publishers'}\n",
      "publishers\n",
      "output_folder:db.localhost/pubs/, table:publishers\n",
      "{'Tables_in_pubs': 'roysched'}\n",
      "roysched\n",
      "output_folder:db.localhost/pubs/, table:roysched\n",
      "{'Tables_in_pubs': 'sales'}\n",
      "sales\n",
      "output_folder:db.localhost/pubs/, table:sales\n",
      "{'Tables_in_pubs': 'stores'}\n",
      "stores\n",
      "output_folder:db.localhost/pubs/, table:stores\n",
      "{'Tables_in_pubs': 'titleauthor'}\n",
      "titleauthor\n",
      "output_folder:db.localhost/pubs/, table:titleauthor\n",
      "{'Tables_in_pubs': 'titles'}\n",
      "titles\n",
      "output_folder:db.localhost/pubs/, table:titles\n"
     ]
    }
   ],
   "source": [
    "c2 = connection.cursor()\n",
    "for table in table_list:\n",
    "    print(table)\n",
    "    table = (list(table.values()))[0]\n",
    "    print(table)\n",
    "    create_csv(c2, table)"
   ]
  }
 ],
 "metadata": {
  "kernelspec": {
   "display_name": "Python 3 (ipykernel)",
   "language": "python",
   "name": "python3"
  },
  "language_info": {
   "codemirror_mode": {
    "name": "ipython",
    "version": 3
   },
   "file_extension": ".py",
   "mimetype": "text/x-python",
   "name": "python",
   "nbconvert_exporter": "python",
   "pygments_lexer": "ipython3",
   "version": "3.9.12"
  }
 },
 "nbformat": 4,
 "nbformat_minor": 5
}
